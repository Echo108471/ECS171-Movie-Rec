{
  "nbformat": 4,
  "nbformat_minor": 0,
  "metadata": {
    "colab": {
      "provenance": []
    },
    "kernelspec": {
      "name": "python3",
      "display_name": "Python 3"
    },
    "language_info": {
      "name": "python"
    }
  },
  "cells": [
    {
      "cell_type": "code",
      "execution_count": null,
      "metadata": {
        "colab": {
          "base_uri": "https://localhost:8080/"
        },
        "id": "yKs1-6KPzv6B",
        "outputId": "5b31094c-ae6c-4c07-9cd4-f8e5a334f7cf"
      },
      "outputs": [
        {
          "output_type": "stream",
          "name": "stdout",
          "text": [
            "Path to dataset files: /kaggle/input/imdb-dataset-of-top-1000-movies-and-tv-shows\n"
          ]
        }
      ],
      "source": [
        "import kagglehub\n",
        "\n",
        "# Download latest version\n",
        "path = kagglehub.dataset_download(\"harshitshankhdhar/imdb-dataset-of-top-1000-movies-and-tv-shows\")\n",
        "\n",
        "print(\"Path to dataset files:\", path)"
      ]
    },
    {
      "cell_type": "code",
      "source": [
        "import pandas as pd\n",
        "import re\n",
        "from collections import Counter\n",
        "import matplotlib.pyplot as plt\n",
        "from sklearn.feature_extraction.text import ENGLISH_STOP_WORDS\n",
        "\n",
        "df = pd.read_csv(csv_path)\n",
        "\n",
        "overview = df['Overview']\n",
        "overview = overview.fillna('').str.lower()\n",
        "\n",
        "\n",
        "filters = []\n",
        "for ov in overview:\n",
        "  tokens = re.findall(r'\\b\\w+\\b', ov)\n",
        "  filtered_tokens = [token for token in tokens if token not in ENGLISH_STOP_WORDS]\n",
        "  filters.append(\" \".join(filtered_tokens))\n",
        "\n"
      ],
      "metadata": {
        "id": "CSCU8gog0Ctx"
      },
      "execution_count": null,
      "outputs": []
    },
    {
      "cell_type": "code",
      "source": [
        "import pandas as pd\n",
        "import re\n",
        "from collections import Counter\n",
        "import matplotlib.pyplot as plt\n",
        "from sklearn.feature_extraction.text import ENGLISH_STOP_WORDS\n",
        "\n",
        "csv_path = '/kaggle/input/imdb-dataset-of-top-1000-movies-and-tv-shows/imdb_top_1000.csv'\n",
        "df = pd.read_csv(csv_path)\n",
        "\n",
        "# Clean overview data\n",
        "overview = df['Overview'].fillna('').str.lower()\n",
        "\n",
        "# Tokenize the overview section\n",
        "# Remove any common words\n",
        "filtered_lists = []\n",
        "for ov in overview:\n",
        "    tokens = re.findall(r'\\b\\w+\\b', ov)\n",
        "    filtered = [t for t in tokens if t not in ENGLISH_STOP_WORDS]\n",
        "    filtered_lists.append(filtered)\n",
        "\n",
        "# Count tokens\n",
        "all_tokens = [tok for sublist in filtered_lists for tok in sublist]\n",
        "counter = Counter(all_tokens)\n",
        "common_tokens = counter.most_common(20)\n",
        "\n",
        "token_df = pd.DataFrame(common_tokens, columns=['token', 'count'])\n",
        "print(token_df)"
      ],
      "metadata": {
        "colab": {
          "base_uri": "https://localhost:8080/"
        },
        "id": "eWKnQLGSAjC5",
        "outputId": "01b4fa33-967c-44f2-d92a-eb6f0e00e7f1"
      },
      "execution_count": null,
      "outputs": [
        {
          "output_type": "stream",
          "name": "stdout",
          "text": [
            "       token  count\n",
            "0          s    239\n",
            "1      young    132\n",
            "2        man    119\n",
            "3       life    111\n",
            "4      world     85\n",
            "5        new     73\n",
            "6     family     66\n",
            "7        war     66\n",
            "8      woman     65\n",
            "9      story     63\n",
            "10      love     61\n",
            "11       old     54\n",
            "12     finds     47\n",
            "13       boy     46\n",
            "14      help     45\n",
            "15    father     45\n",
            "16      wife     44\n",
            "17      girl     42\n",
            "18  american     40\n",
            "19     years     39\n"
          ]
        }
      ]
    },
    {
      "cell_type": "code",
      "source": [
        "import pandas as pd\n",
        "import re\n",
        "from sklearn.feature_extraction.text import TfidfVectorizer\n",
        "from sklearn.model_selection import train_test_split\n",
        "from sklearn.feature_extraction.text import ENGLISH_STOP_WORDS\n",
        "\n",
        "# Preprocess the data: remove NaNs, lowercase, tokenize & filter stop words\n",
        "def preprocess(text):\n",
        "    tokens = re.findall(r'\\b\\w+\\b', str(text).lower())\n",
        "    return \" \".join([t for t in tokens if t not in ENGLISH_STOP_WORDS])\n",
        "\n",
        "df['filtered_overview'] = df['Overview'].apply(preprocess)\n",
        "\n",
        "# Vectorize with TF-IDF (Change words into numbers that a model can recognize)\n",
        "vectorizer = TfidfVectorizer(max_features=5000, ngram_range=(1,2))\n",
        "X_tfidf = vectorizer.fit_transform(df['filtered_overview'])\n",
        "\n",
        "# 4. Train/test split\n",
        "y = df['Genre']\n",
        "X_train, X_test, y_train, y_test = train_test_split(\n",
        "    X_tfidf, y, test_size=0.2, random_state=42\n",
        ")\n",
        "\n",
        "# 5. Preview\n",
        "feature_names = vectorizer.get_feature_names_out()[:10]\n",
        "preview = pd.DataFrame({\n",
        "    'feature': feature_names,\n",
        "    'idf': vectorizer.idf_[:10]\n",
        "})\n",
        "\n",
        "# View shape of the matrix\n",
        "print(preview)\n",
        "print(f\"TF-IDF matrix shape: {X_tfidf.shape}\")\n",
        "\n"
      ],
      "metadata": {
        "colab": {
          "base_uri": "https://localhost:8080/"
        },
        "id": "DV3BN3W0CAqF",
        "outputId": "a1db74a7-9efa-45c8-df21-98f876304cae"
      },
      "execution_count": null,
      "outputs": [
        {
          "output_type": "stream",
          "name": "stdout",
          "text": [
            "            feature       idf\n",
            "0         00 status  7.215608\n",
            "1               000  6.116995\n",
            "2  000 deutschmarks  7.215608\n",
            "3      000 employer  7.215608\n",
            "4       000 savings  7.215608\n",
            "5        000 stolen  7.215608\n",
            "6      000 stranded  7.215608\n",
            "7               007  6.810142\n",
            "8          007 bond  7.215608\n",
            "9         007 track  7.215608\n",
            "TF-IDF matrix shape: (1000, 5000)\n"
          ]
        }
      ]
    },
    {
      "cell_type": "code",
      "source": [
        "from collections import Counter\n",
        "\n",
        "# Count number of movies per genre\n",
        "all_genres = df['Genre'].str.split(',').explode().str.strip()\n",
        "Counter(all_genres)"
      ],
      "metadata": {
        "colab": {
          "base_uri": "https://localhost:8080/"
        },
        "id": "nlrQsibtxnSG",
        "outputId": "acf81735-c99c-4baa-8d1e-7aaf74d197c6"
      },
      "execution_count": null,
      "outputs": [
        {
          "output_type": "execute_result",
          "data": {
            "text/plain": [
              "Counter({'Drama': 724,\n",
              "         'Crime': 209,\n",
              "         'Action': 189,\n",
              "         'Adventure': 196,\n",
              "         'Biography': 109,\n",
              "         'History': 56,\n",
              "         'Sci-Fi': 67,\n",
              "         'Romance': 125,\n",
              "         'Western': 20,\n",
              "         'Fantasy': 66,\n",
              "         'Comedy': 233,\n",
              "         'Thriller': 137,\n",
              "         'Animation': 82,\n",
              "         'Family': 56,\n",
              "         'War': 51,\n",
              "         'Mystery': 99,\n",
              "         'Music': 35,\n",
              "         'Horror': 32,\n",
              "         'Musical': 17,\n",
              "         'Film-Noir': 19,\n",
              "         'Sport': 19})"
            ]
          },
          "metadata": {},
          "execution_count": 35
        }
      ]
    },
    {
      "cell_type": "code",
      "source": [
        "from sklearn.preprocessing import MultiLabelBinarizer, StandardScaler\n",
        "\n",
        "# Genres: Make genre list a binary matrix to train\n",
        "mlb = MultiLabelBinarizer(sparse_output=True)\n",
        "genre_mat = mlb.fit_transform(df['Genre'].str.split(',').apply(lambda lst: [g.strip() for g in lst]))\n",
        "\n",
        "# Director: One hot encoding\n",
        "dir_onehot = pd.get_dummies(df['Director'], prefix='dir', sparse=True)\n",
        "stars = df[['Star1','Star2','Star3','Star4']].apply(lambda col: col.str.strip())\n",
        "\n",
        "#  Top-4 stars: Make genre list a binary matrix to train\n",
        "star_mlb = MultiLabelBinarizer(sparse_output=True)\n",
        "star_mat = star_mlb.fit_transform(stars.values.tolist())\n",
        "\n",
        "# Numeric features: Scale the features\n",
        "num = df[['IMDB_Rating','Meta_score','No_of_Votes']].fillna(0)\n",
        "scaler = StandardScaler(with_mean=False)  # sparse compatibility\n",
        "num_mat = scaler.fit_transform(num)"
      ],
      "metadata": {
        "id": "16Y5EJVgyNFA"
      },
      "execution_count": null,
      "outputs": []
    },
    {
      "cell_type": "code",
      "source": [
        "from scipy.sparse import hstack\n",
        "\n",
        "# Format the data\n",
        "X = hstack([\n",
        "    X_tfidf,\n",
        "    genre_mat,\n",
        "    dir_onehot.sparse.to_coo(),\n",
        "    star_mat,\n",
        "    num_mat\n",
        "]).tocsr()"
      ],
      "metadata": {
        "id": "ud0AKQjHyQun"
      },
      "execution_count": null,
      "outputs": []
    },
    {
      "cell_type": "code",
      "source": [
        "from sklearn.neighbors import NearestNeighbors\n",
        "\n",
        "model = NearestNeighbors(metric='cosine', algorithm='brute')\n",
        "model.fit(X)\n",
        "\n",
        "def get_recs(title, k=10):\n",
        "    idx = df.index[df['Series_Title']==title][0]\n",
        "    dists, idxs = model.kneighbors(X[idx], n_neighbors=k+1)\n",
        "    # drop the query movie itself\n",
        "    rec_idxs = idxs.flatten()[1:]\n",
        "    return df.loc[rec_idxs, 'Series_Title'].tolist()"
      ],
      "metadata": {
        "id": "gYUAI5EQya-J"
      },
      "execution_count": null,
      "outputs": []
    },
    {
      "cell_type": "code",
      "source": [
        "for title in [\"Inception\", \"The Godfather\", \"Toy Story\"]:\n",
        "    print(f\"Seed: {title}\")\n",
        "    print(get_recs(title, k=5))\n",
        "    print()\n"
      ],
      "metadata": {
        "colab": {
          "base_uri": "https://localhost:8080/"
        },
        "id": "ivWIbvRQypSN",
        "outputId": "0957e378-50b9-492b-9417-ccfcb976ef52"
      },
      "execution_count": null,
      "outputs": [
        {
          "output_type": "stream",
          "name": "stdout",
          "text": [
            "Seed: Inception\n",
            "['The Dark Knight Rises', 'Batman Begins', 'The Dark Knight', 'The Matrix', 'Interstellar']\n",
            "\n",
            "Seed: The Godfather\n",
            "['The Godfather: Part II', 'Pulp Fiction', 'The Silence of the Lambs', 'Se7en', 'The Departed']\n",
            "\n",
            "Seed: Toy Story\n",
            "['Toy Story 2', 'Toy Story 3', 'Up', 'Finding Nemo', 'Toy Story 4']\n",
            "\n"
          ]
        }
      ]
    },
    {
      "cell_type": "code",
      "source": [
        "import numpy as np\n",
        "\n",
        "def genre_match_rate(k=10, samples=100):\n",
        "    sample_titles = df['Series_Title'].sample(samples, random_state=42)\n",
        "    match_counts = []\n",
        "    for title in sample_titles:\n",
        "        seed_genres = set(g.strip() for g in df.loc[df.Series_Title==title, 'Genre'].iloc[0].split(','))\n",
        "        recs = get_recs(title, k)\n",
        "        matches = 0\n",
        "        for r in recs:\n",
        "            rec_genres = set(g.strip() for g in df.loc[df.Series_Title==r, 'Genre'].iloc[0].split(','))\n",
        "            if seed_genres & rec_genres:\n",
        "                matches += 1\n",
        "        match_counts.append(matches / k)\n",
        "    return np.mean(match_counts)\n",
        "\n",
        "print(\"Avg. genre-overlap@10:\", genre_match_rate(10, samples=200))"
      ],
      "metadata": {
        "colab": {
          "base_uri": "https://localhost:8080/"
        },
        "id": "xsgkGe_OzrP7",
        "outputId": "7b2dedb6-fbfb-419e-c563-835cf23359d3"
      },
      "execution_count": null,
      "outputs": [
        {
          "output_type": "stream",
          "name": "stdout",
          "text": [
            "Avg. genre-overlap@10: 0.993\n"
          ]
        }
      ]
    }
  ]
}