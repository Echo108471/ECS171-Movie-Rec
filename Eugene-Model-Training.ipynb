{
  "nbformat": 4,
  "nbformat_minor": 0,
  "metadata": {
    "colab": {
      "provenance": []
    },
    "kernelspec": {
      "name": "python3",
      "display_name": "Python 3"
    },
    "language_info": {
      "name": "python"
    }
  },
  "cells": [
    {
      "cell_type": "code",
      "execution_count": 9,
      "metadata": {
        "id": "45-lo8cgbxwe"
      },
      "outputs": [],
      "source": [
        "#imports\n",
        "import re, string\n",
        "import joblib\n",
        "import numpy as np\n",
        "import pandas as pd\n",
        "\n",
        "from sklearn.base import BaseEstimator, TransformerMixin\n",
        "from sklearn.decomposition import TruncatedSVD\n",
        "from sklearn.feature_extraction.text import TfidfVectorizer\n",
        "from sklearn.neighbors import NearestNeighbors\n",
        "from sklearn.preprocessing import normalize\n",
        "\n",
        "from sentence_transformers import SentenceTransformer"
      ]
    },
    {
      "cell_type": "code",
      "source": [
        "#preprocessing\n",
        "def clean_series(s: pd.Series) -> pd.Series:\n",
        "    return (\n",
        "        s.str.lower()\n",
        "         .str.replace(f\"[{re.escape(string.punctuation)}]\", \" \", regex=True)\n",
        "         .str.replace(r\"\\s+\", \" \", regex=True)\n",
        "         .str.strip()\n",
        "    )\n"
      ],
      "metadata": {
        "id": "i1fiqv6Hbzqe"
      },
      "execution_count": 10,
      "outputs": []
    },
    {
      "cell_type": "code",
      "source": [
        "# concatenates the cleaned overview with a directorname tag\n",
        "# runs through a pre-trained SentenceTransformer to get embedding\n",
        "# normalizes and scales it by weight a\n",
        "# director: vectorizes cleaned director name with tfidf\n",
        "# normalizes and scales with wieght b\n",
        "\n",
        "class MovieFeatureizer(BaseEstimator, TransformerMixin):\n",
        "    def __init__(self, model_name=\"all-MiniLM-L6-v2\", a=1.0, b=5.0, svd_dims=50):\n",
        "        self.model_name = model_name\n",
        "        self.a = a\n",
        "        self.b = b\n",
        "        self.svd_dims = svd_dims\n",
        "\n",
        "    def fit(self, X: pd.DataFrame, y=None):\n",
        "        self.sbert = SentenceTransformer(self.model_name)\n",
        "        self.tfidf = TfidfVectorizer(analyzer=\"char\", ngram_range=(3,3))\n",
        "        dirs = clean_series(X[\"Director\"])\n",
        "        self.tfidf.fit(dirs)\n",
        "        self.svd = TruncatedSVD(self.svd_dims, random_state=42)\n",
        "        self.svd.fit(self.tfidf.transform(dirs))\n",
        "        return self\n",
        "\n",
        "    def transform(self, X: pd.DataFrame):\n",
        "        over = clean_series(X[\"Overview\"])\n",
        "        dirs = clean_series(X[\"Director\"])\n",
        "        texts = (over + \" [SEP] director: \" + dirs).tolist()\n",
        "\n",
        "        emb = self.sbert.encode(texts, show_progress_bar=False)\n",
        "        emb = normalize(emb) * self.a\n",
        "\n",
        "        D = self.tfidf.transform(dirs)\n",
        "        D = self.svd.transform(D)\n",
        "        D = normalize(D) * self.b\n",
        "\n",
        "        return np.hstack([emb, D])\n"
      ],
      "metadata": {
        "id": "qDFyhxiTb1gC"
      },
      "execution_count": 11,
      "outputs": []
    },
    {
      "cell_type": "code",
      "source": [
        "#combines everything into a single class that is easier to manage with training, evaluation, and saving the models\n",
        "class MovieRecommender:\n",
        "    def __init__(self, k=10, a=1.0, b=5.0):\n",
        "        self.k = k\n",
        "        self.featureizer = MovieFeatureizer(a=a, b=b)\n",
        "        self.knn = NearestNeighbors(n_neighbors=k+1, metric=\"cosine\", algorithm=\"brute\")\n",
        "\n",
        "    def fit(self, df: pd.DataFrame):\n",
        "        df = df.dropna(subset=[\"Overview\",\"Director\"]).reset_index(drop=True)\n",
        "        self.df = df.copy()\n",
        "        feats = self.featureizer.fit_transform(df)\n",
        "        self.knn.fit(feats)\n",
        "        return self\n",
        "\n",
        "    def precision_at_k(self, k=None):\n",
        "        k = k or self.k\n",
        "        feats = self.featureizer.transform(self.df)\n",
        "        _, idx = self.knn.kneighbors(feats, n_neighbors=k+1)\n",
        "        hits = (self.df[\"Director\"].values[idx[:,1:]] ==\n",
        "                self.df[\"Director\"].values[:,None])\n",
        "        return hits.mean()\n",
        "\n",
        "    def recommend(self, title: str, n=None):\n",
        "        n = n or self.k\n",
        "        mask = self.df[\"Series_Title\"].str.lower() == title.lower()\n",
        "        if not mask.any():\n",
        "            raise ValueError(f\"Title '{title}' not found.\")\n",
        "        i = mask.idxmax()\n",
        "        qf = self.featureizer.transform(self.df.loc[[i]])\n",
        "        nbrs = self.knn.kneighbors(qf, n_neighbors=n+1,\n",
        "                                   return_distance=False)[0]\n",
        "        return self.df[\"Series_Title\"].iloc[nbrs[1:]].tolist()\n",
        "\n",
        "    def save(self, path: str):\n",
        "        joblib.dump(self, path)\n",
        "\n",
        "    @classmethod\n",
        "    def load(cls, path: str):\n",
        "        return joblib.load(path)\n"
      ],
      "metadata": {
        "id": "JmQRY1Jlb4Jd"
      },
      "execution_count": 21,
      "outputs": []
    },
    {
      "cell_type": "code",
      "source": [
        "csv_path = \"imdb_top_1000.csv\"\n",
        "df = pd.read_csv(csv_path)\n",
        "\n",
        "mr = MovieRecommender(k=10).fit(df)\n",
        "print(f\"Precision@10: {mr.precision_at_k():.4f}\")\n"
      ],
      "metadata": {
        "colab": {
          "base_uri": "https://localhost:8080/"
        },
        "id": "0YdO75GBb7Kx",
        "outputId": "f8516b4f-95a6-44da-e763-6ff9a0dce94b"
      },
      "execution_count": 22,
      "outputs": [
        {
          "output_type": "stream",
          "name": "stdout",
          "text": [
            "Precision@10: 0.2280\n"
          ]
        }
      ]
    },
    {
      "cell_type": "code",
      "source": [
        "mr.save(\"movie_recommender.pkl\")\n",
        "print(\"Model saved to movie_recommender.pkl\")\n"
      ],
      "metadata": {
        "colab": {
          "base_uri": "https://localhost:8080/"
        },
        "id": "O7Ffr5WPb8hN",
        "outputId": "e1110d72-6081-49c5-e4f1-299a66d9217c"
      },
      "execution_count": 23,
      "outputs": [
        {
          "output_type": "stream",
          "name": "stdout",
          "text": [
            "Model saved to movie_recommender.pkl\n"
          ]
        }
      ]
    },
    {
      "cell_type": "code",
      "source": [
        "mr2 = MovieRecommender.load(\"movie_recommender.pkl\")\n",
        "print(mr2.recommend(\"The Matrix\", n=10))\n"
      ],
      "metadata": {
        "colab": {
          "base_uri": "https://localhost:8080/"
        },
        "id": "z09AIf9vb90I",
        "outputId": "ec80a1d6-b6f3-4c85-eaf7-62317d26a528"
      },
      "execution_count": 24,
      "outputs": [
        {
          "output_type": "stream",
          "name": "stdout",
          "text": [
            "['Pirates of the Caribbean: The Curse of the Black Pearl', 'Chinatown', 'Trois couleurs: Rouge', 'Repulsion', 'Le locataire', 'Trois couleurs: Blanc', 'Trois couleurs: Bleu', 'La double vie de Véronique', \"Rosemary's Baby\", 'The Pianist']\n"
          ]
        }
      ]
    }
  ]
}